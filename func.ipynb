{
 "cells": [
  {
   "cell_type": "code",
   "execution_count": 1,
   "metadata": {},
   "outputs": [],
   "source": [
    "import pandas as pd\n",
    "pd.options.mode.chained_assignment = None"
   ]
  },
  {
   "cell_type": "code",
   "execution_count": 2,
   "metadata": {},
   "outputs": [],
   "source": [
    "data=pd.read_csv('data.csv')"
   ]
  },
  {
   "cell_type": "code",
   "execution_count": 3,
   "metadata": {},
   "outputs": [],
   "source": [
    "def reconciliation(data: pd.DataFrame, sender_code: int, volume: int) -> pd.DataFrame:\n",
    "    df=data[data.loc[:,'sender_code'] == sender_code]\n",
    "    if volume < sum(df.loc[:,'MIN']):\n",
    "        df.loc[:,'new_value'] = (df.loc[:,'MIN']/(sum(df.loc[:,'MIN'])))*volume\n",
    "    else:    \n",
    "        df.loc[:,'diff'] = df.loc[:,'MAX'] - df.loc[:,'MIN']\n",
    "        df.loc[:,'diff'] = (df.loc[:,'diff']/(sum(df.loc[:,'diff'])))*(volume - (sum(df.loc[:,'MIN'])))\n",
    "        df.loc[:,'new_value'] = df.loc[:,'diff'] + df.loc[:,'MIN']\n",
    "        df.drop('diff', axis = 1, inplace = True)\n",
    "    return df"
   ]
  },
  {
   "cell_type": "code",
   "execution_count": 4,
   "metadata": {},
   "outputs": [
    {
     "data": {
      "text/html": [
       "<div>\n",
       "<style scoped>\n",
       "    .dataframe tbody tr th:only-of-type {\n",
       "        vertical-align: middle;\n",
       "    }\n",
       "\n",
       "    .dataframe tbody tr th {\n",
       "        vertical-align: top;\n",
       "    }\n",
       "\n",
       "    .dataframe thead th {\n",
       "        text-align: right;\n",
       "    }\n",
       "</style>\n",
       "<table border=\"1\" class=\"dataframe\">\n",
       "  <thead>\n",
       "    <tr style=\"text-align: right;\">\n",
       "      <th></th>\n",
       "      <th>sender_code</th>\n",
       "      <th>sender_point_id</th>\n",
       "      <th>recipient_point_id</th>\n",
       "      <th>MIN</th>\n",
       "      <th>MAX</th>\n",
       "      <th>new_value</th>\n",
       "    </tr>\n",
       "  </thead>\n",
       "  <tbody>\n",
       "    <tr>\n",
       "      <th>851</th>\n",
       "      <td>6659</td>\n",
       "      <td>76404</td>\n",
       "      <td>689109</td>\n",
       "      <td>5013.0</td>\n",
       "      <td>6062.0</td>\n",
       "      <td>3637.880987</td>\n",
       "    </tr>\n",
       "    <tr>\n",
       "      <th>983</th>\n",
       "      <td>6659</td>\n",
       "      <td>20108</td>\n",
       "      <td>674000</td>\n",
       "      <td>138.0</td>\n",
       "      <td>413.0</td>\n",
       "      <td>100.145138</td>\n",
       "    </tr>\n",
       "    <tr>\n",
       "      <th>1352</th>\n",
       "      <td>6659</td>\n",
       "      <td>525205</td>\n",
       "      <td>676700</td>\n",
       "      <td>551.0</td>\n",
       "      <td>1102.0</td>\n",
       "      <td>399.854862</td>\n",
       "    </tr>\n",
       "    <tr>\n",
       "      <th>1767</th>\n",
       "      <td>6659</td>\n",
       "      <td>76404</td>\n",
       "      <td>860009</td>\n",
       "      <td>1188.0</td>\n",
       "      <td>1188.0</td>\n",
       "      <td>862.119013</td>\n",
       "    </tr>\n",
       "  </tbody>\n",
       "</table>\n",
       "</div>"
      ],
      "text/plain": [
       "      sender_code  sender_point_id  recipient_point_id     MIN     MAX  \\\n",
       "851          6659            76404              689109  5013.0  6062.0   \n",
       "983          6659            20108              674000   138.0   413.0   \n",
       "1352         6659           525205              676700   551.0  1102.0   \n",
       "1767         6659            76404              860009  1188.0  1188.0   \n",
       "\n",
       "        new_value  \n",
       "851   3637.880987  \n",
       "983    100.145138  \n",
       "1352   399.854862  \n",
       "1767   862.119013  "
      ]
     },
     "execution_count": 4,
     "metadata": {},
     "output_type": "execute_result"
    }
   ],
   "source": [
    "reconciliation(data, 6659, 5000)"
   ]
  },
  {
   "cell_type": "code",
   "execution_count": 5,
   "metadata": {},
   "outputs": [
    {
     "data": {
      "text/html": [
       "<div>\n",
       "<style scoped>\n",
       "    .dataframe tbody tr th:only-of-type {\n",
       "        vertical-align: middle;\n",
       "    }\n",
       "\n",
       "    .dataframe tbody tr th {\n",
       "        vertical-align: top;\n",
       "    }\n",
       "\n",
       "    .dataframe thead th {\n",
       "        text-align: right;\n",
       "    }\n",
       "</style>\n",
       "<table border=\"1\" class=\"dataframe\">\n",
       "  <thead>\n",
       "    <tr style=\"text-align: right;\">\n",
       "      <th></th>\n",
       "      <th>sender_code</th>\n",
       "      <th>sender_point_id</th>\n",
       "      <th>recipient_point_id</th>\n",
       "      <th>MIN</th>\n",
       "      <th>MAX</th>\n",
       "      <th>new_value</th>\n",
       "    </tr>\n",
       "  </thead>\n",
       "  <tbody>\n",
       "    <tr>\n",
       "      <th>851</th>\n",
       "      <td>6659</td>\n",
       "      <td>76404</td>\n",
       "      <td>689109</td>\n",
       "      <td>5013.0</td>\n",
       "      <td>6062.0</td>\n",
       "      <td>5074.541333</td>\n",
       "    </tr>\n",
       "    <tr>\n",
       "      <th>983</th>\n",
       "      <td>6659</td>\n",
       "      <td>20108</td>\n",
       "      <td>674000</td>\n",
       "      <td>138.0</td>\n",
       "      <td>413.0</td>\n",
       "      <td>154.133333</td>\n",
       "    </tr>\n",
       "    <tr>\n",
       "      <th>1352</th>\n",
       "      <td>6659</td>\n",
       "      <td>525205</td>\n",
       "      <td>676700</td>\n",
       "      <td>551.0</td>\n",
       "      <td>1102.0</td>\n",
       "      <td>583.325333</td>\n",
       "    </tr>\n",
       "    <tr>\n",
       "      <th>1767</th>\n",
       "      <td>6659</td>\n",
       "      <td>76404</td>\n",
       "      <td>860009</td>\n",
       "      <td>1188.0</td>\n",
       "      <td>1188.0</td>\n",
       "      <td>1188.000000</td>\n",
       "    </tr>\n",
       "  </tbody>\n",
       "</table>\n",
       "</div>"
      ],
      "text/plain": [
       "      sender_code  sender_point_id  recipient_point_id     MIN     MAX  \\\n",
       "851          6659            76404              689109  5013.0  6062.0   \n",
       "983          6659            20108              674000   138.0   413.0   \n",
       "1352         6659           525205              676700   551.0  1102.0   \n",
       "1767         6659            76404              860009  1188.0  1188.0   \n",
       "\n",
       "        new_value  \n",
       "851   5074.541333  \n",
       "983    154.133333  \n",
       "1352   583.325333  \n",
       "1767  1188.000000  "
      ]
     },
     "execution_count": 5,
     "metadata": {},
     "output_type": "execute_result"
    }
   ],
   "source": [
    "reconciliation(data, 6659, 7000)"
   ]
  }
 ],
 "metadata": {
  "kernelspec": {
   "display_name": "base",
   "language": "python",
   "name": "python3"
  },
  "language_info": {
   "codemirror_mode": {
    "name": "ipython",
    "version": 3
   },
   "file_extension": ".py",
   "mimetype": "text/x-python",
   "name": "python",
   "nbconvert_exporter": "python",
   "pygments_lexer": "ipython3",
   "version": "3.9.16"
  },
  "orig_nbformat": 4
 },
 "nbformat": 4,
 "nbformat_minor": 2
}
